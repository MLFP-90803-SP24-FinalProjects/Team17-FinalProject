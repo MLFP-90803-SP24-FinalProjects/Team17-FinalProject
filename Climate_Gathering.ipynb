{
 "cells": [
  {
   "cell_type": "markdown",
   "id": "eb68b6a4",
   "metadata": {},
   "source": [
    "# Climate Data Gathering\n",
    "## 90-803 Machine Learning Foundations with Python (Spring 2024)\n",
    "### Team 17: Yoko, Tessa, Hannah"
   ]
  },
  {
   "cell_type": "code",
   "execution_count": 29,
   "metadata": {},
   "outputs": [],
   "source": [
    "from selenium import webdriver\n",
    "from selenium.webdriver.chrome.service import Service\n",
    "import glob\n",
    "import os\n",
    "import time\n",
    "\n",
    "# Set up the WebDriver (in this example, using Chrome)\n",
    "#cService = webdriver.ChromeService(executable_path='/Users/quint/Downloads/chromedriver_win32/chromedriver.exe')\n",
    "#driver = webdriver.Chrome(service = cService)\n",
    "service = Service()\n",
    "options = webdriver.ChromeOptions()\n",
    "driver = webdriver.Chrome(service=service, options=options)\n",
    "# Navigate to the web page containing the table\n",
    "for i in range(2022,2023):\n",
    "    for j in range(1,13):\n",
    "        if j < 10:\n",
    "            jstr = '0' + str(j)\n",
    "        else:\n",
    "            jstr = str(j)\n",
    "        url = \"https://www.ncei.noaa.gov/access/monitoring/climate-at-a-glance/county/mapping/110-tavg-\" + str(i) + jstr + \"-1.csv\"\n",
    "        driver.get(url)\n",
    "        time.sleep(5)\n",
    "        # Don't forget to close the driver after your job is done\n",
    "        # list_of_files = glob.glob('/Users/quint/Downloads/*') # * means all if need specific format then *.csv\n",
    "        # latest_file = max(list_of_files, key=os.path.getctime)\n",
    "        # print(latest_file)\n",
    "        # filename = \"tavg-\" + str(i) + jstr + \".csv\"\n",
    "        # os.rename(latest_file, filename)\n",
    "        \n",
    "driver.quit()"
   ]
  },
{
   "cell_type": "markdown",
   "id": "913c56ae",
   "metadata": {},
   "source": [
    "### References\n",
    "1. https://www.selenium.dev/documentation/\n",
    "2. https://www.ncei.noaa.gov/access/monitoring/climate-at-a-glance/county/mapping/110/tavg/202301/1/value"
   ]
  }
 ],
 "metadata": {
  "kernelspec": {
   "display_name": "Python 3",
   "language": "python",
   "name": "python3"
  },
  "language_info": {
   "codemirror_mode": {
    "name": "ipython",
    "version": 3
   },
   "file_extension": ".py",
   "mimetype": "text/x-python",
   "name": "python",
   "nbconvert_exporter": "python",
   "pygments_lexer": "ipython3",
   "version": "3.10.11"
  }
 },
 "nbformat": 4,
 "nbformat_minor": 2
}
