{
 "cells": [
  {
   "cell_type": "markdown",
   "metadata": {},
   "source": [
    "# Sprint 2 \n",
    "## 90-803 Machine Learning Foundations with Python (Spring 2024)\n",
    "### Team name:\n",
    "#### Due Date: Thursday, February 15th, 2024\n",
    "\n",
    "### Topics covered:\n",
    "- Collaboration as a team through Git/GitHub"
   ]
  },
  {
   "cell_type": "markdown",
   "metadata": {},
   "source": [
    "**Imports all the necessary packages we are going to use in this Lab.**"
   ]
  },
  {
   "cell_type": "code",
   "execution_count": 1,
   "metadata": {},
   "outputs": [],
   "source": [
    "import numpy as np\n",
    "import pandas as pd\n",
    "from sklearn.preprocessing import StandardScaler\n",
    "from sklearn.metrics import mean_squared_error\n",
    "from sklearn.linear_model import LinearRegression\n",
    "from sklearn.linear_model import Ridge, Lasso\n",
    "from sklearn.linear_model import LassoCV, RidgeCV\n",
    "from sklearn.model_selection import train_test_split\n",
    "from sklearn.datasets import fetch_california_housing\n",
    "\n",
    "from matplotlib import pyplot as plt\n",
    "%matplotlib inline"
   ]
  },
  {
   "cell_type": "markdown",
   "metadata": {},
   "source": [
    "---"
   ]
  },
  {
   "cell_type": "markdown",
   "metadata": {},
   "source": [
    "### California Housing Data\n",
    "\n",
    "Take a minute to understand the dataset [california housing](https://scikit-learn.org/stable/modules/generated/sklearn.datasets.fetch_california_housing.html) we are loading and its features. "
   ]
  },
  {
   "cell_type": "code",
   "execution_count": 2,
   "metadata": {},
   "outputs": [
    {
     "name": "stdout",
     "output_type": "stream",
     "text": [
      ".. _california_housing_dataset:\n",
      "\n",
      "California Housing dataset\n",
      "--------------------------\n",
      "\n",
      "**Data Set Characteristics:**\n",
      "\n",
      "    :Number of Instances: 20640\n",
      "\n",
      "    :Number of Attributes: 8 numeric, predictive attributes and the target\n",
      "\n",
      "    :Attribute Information:\n",
      "        - MedInc        median income in block group\n",
      "        - HouseAge      median house age in block group\n",
      "        - AveRooms      average number of rooms per household\n",
      "        - AveBedrms     average number of bedrooms per household\n",
      "        - Population    block group population\n",
      "        - AveOccup      average number of household members\n",
      "        - Latitude      block group latitude\n",
      "        - Longitude     block group longitude\n",
      "\n",
      "    :Missing Attribute Values: None\n",
      "\n",
      "This dataset was obtained from the StatLib repository.\n",
      "https://www.dcc.fc.up.pt/~ltorgo/Regression/cal_housing.html\n",
      "\n",
      "The target variable is the median house value for California districts,\n",
      "expressed in hundreds of thousands of dollars ($100,000).\n",
      "\n",
      "This dataset was derived from the 1990 U.S. census, using one row per census\n",
      "block group. A block group is the smallest geographical unit for which the U.S.\n",
      "Census Bureau publishes sample data (a block group typically has a population\n",
      "of 600 to 3,000 people).\n",
      "\n",
      "A household is a group of people residing within a home. Since the average\n",
      "number of rooms and bedrooms in this dataset are provided per household, these\n",
      "columns may take surprisingly large values for block groups with few households\n",
      "and many empty houses, such as vacation resorts.\n",
      "\n",
      "It can be downloaded/loaded using the\n",
      ":func:`sklearn.datasets.fetch_california_housing` function.\n",
      "\n",
      ".. topic:: References\n",
      "\n",
      "    - Pace, R. Kelley and Ronald Barry, Sparse Spatial Autoregressions,\n",
      "      Statistics and Probability Letters, 33 (1997) 291-297\n",
      "\n"
     ]
    },
    {
     "data": {
      "text/html": [
       "<div>\n",
       "<style scoped>\n",
       "    .dataframe tbody tr th:only-of-type {\n",
       "        vertical-align: middle;\n",
       "    }\n",
       "\n",
       "    .dataframe tbody tr th {\n",
       "        vertical-align: top;\n",
       "    }\n",
       "\n",
       "    .dataframe thead th {\n",
       "        text-align: right;\n",
       "    }\n",
       "</style>\n",
       "<table border=\"1\" class=\"dataframe\">\n",
       "  <thead>\n",
       "    <tr style=\"text-align: right;\">\n",
       "      <th></th>\n",
       "      <th>MedInc</th>\n",
       "      <th>HouseAge</th>\n",
       "      <th>AveRooms</th>\n",
       "      <th>AveBedrms</th>\n",
       "      <th>Population</th>\n",
       "      <th>AveOccup</th>\n",
       "      <th>Latitude</th>\n",
       "      <th>Longitude</th>\n",
       "      <th>price</th>\n",
       "    </tr>\n",
       "  </thead>\n",
       "  <tbody>\n",
       "    <tr>\n",
       "      <th>0</th>\n",
       "      <td>8.3252</td>\n",
       "      <td>41.0</td>\n",
       "      <td>6.984127</td>\n",
       "      <td>1.023810</td>\n",
       "      <td>322.0</td>\n",
       "      <td>2.555556</td>\n",
       "      <td>37.88</td>\n",
       "      <td>-122.23</td>\n",
       "      <td>4.526</td>\n",
       "    </tr>\n",
       "    <tr>\n",
       "      <th>1</th>\n",
       "      <td>8.3014</td>\n",
       "      <td>21.0</td>\n",
       "      <td>6.238137</td>\n",
       "      <td>0.971880</td>\n",
       "      <td>2401.0</td>\n",
       "      <td>2.109842</td>\n",
       "      <td>37.86</td>\n",
       "      <td>-122.22</td>\n",
       "      <td>3.585</td>\n",
       "    </tr>\n",
       "    <tr>\n",
       "      <th>2</th>\n",
       "      <td>7.2574</td>\n",
       "      <td>52.0</td>\n",
       "      <td>8.288136</td>\n",
       "      <td>1.073446</td>\n",
       "      <td>496.0</td>\n",
       "      <td>2.802260</td>\n",
       "      <td>37.85</td>\n",
       "      <td>-122.24</td>\n",
       "      <td>3.521</td>\n",
       "    </tr>\n",
       "    <tr>\n",
       "      <th>3</th>\n",
       "      <td>5.6431</td>\n",
       "      <td>52.0</td>\n",
       "      <td>5.817352</td>\n",
       "      <td>1.073059</td>\n",
       "      <td>558.0</td>\n",
       "      <td>2.547945</td>\n",
       "      <td>37.85</td>\n",
       "      <td>-122.25</td>\n",
       "      <td>3.413</td>\n",
       "    </tr>\n",
       "    <tr>\n",
       "      <th>4</th>\n",
       "      <td>3.8462</td>\n",
       "      <td>52.0</td>\n",
       "      <td>6.281853</td>\n",
       "      <td>1.081081</td>\n",
       "      <td>565.0</td>\n",
       "      <td>2.181467</td>\n",
       "      <td>37.85</td>\n",
       "      <td>-122.25</td>\n",
       "      <td>3.422</td>\n",
       "    </tr>\n",
       "  </tbody>\n",
       "</table>\n",
       "</div>"
      ],
      "text/plain": [
       "   MedInc  HouseAge  AveRooms  AveBedrms  Population  AveOccup  Latitude  \\\n",
       "0  8.3252      41.0  6.984127   1.023810       322.0  2.555556     37.88   \n",
       "1  8.3014      21.0  6.238137   0.971880      2401.0  2.109842     37.86   \n",
       "2  7.2574      52.0  8.288136   1.073446       496.0  2.802260     37.85   \n",
       "3  5.6431      52.0  5.817352   1.073059       558.0  2.547945     37.85   \n",
       "4  3.8462      52.0  6.281853   1.081081       565.0  2.181467     37.85   \n",
       "\n",
       "   Longitude  price  \n",
       "0    -122.23  4.526  \n",
       "1    -122.22  3.585  \n",
       "2    -122.24  3.521  \n",
       "3    -122.25  3.413  \n",
       "4    -122.25  3.422  "
      ]
     },
     "execution_count": 2,
     "metadata": {},
     "output_type": "execute_result"
    }
   ],
   "source": [
    "california_housing = fetch_california_housing()\n",
    "\n",
    "print(california_housing.DESCR)\n",
    "\n",
    "df = pd.DataFrame(california_housing.data)\n",
    "df.columns = california_housing.feature_names\n",
    "df['price'] = pd.DataFrame(california_housing.target)\n",
    "df.head()"
   ]
  },
  {
   "cell_type": "markdown",
   "metadata": {},
   "source": [
    "## Train and Test Split\n",
    "\n",
    "For this next part we are going to split our dataset into train and test. Take a look at [train_test_split](https://scikit-learn.org/stable/modules/generated/sklearn.model_selection.train_test_split.html) from scikit-learn. Choose do a 70/30 split (70% train, 30% test) and a random state of 34."
   ]
  },
  {
   "cell_type": "code",
   "execution_count": 3,
   "metadata": {},
   "outputs": [
    {
     "data": {
      "text/html": [
       "<div>\n",
       "<style scoped>\n",
       "    .dataframe tbody tr th:only-of-type {\n",
       "        vertical-align: middle;\n",
       "    }\n",
       "\n",
       "    .dataframe tbody tr th {\n",
       "        vertical-align: top;\n",
       "    }\n",
       "\n",
       "    .dataframe thead th {\n",
       "        text-align: right;\n",
       "    }\n",
       "</style>\n",
       "<table border=\"1\" class=\"dataframe\">\n",
       "  <thead>\n",
       "    <tr style=\"text-align: right;\">\n",
       "      <th></th>\n",
       "      <th>AveBedrms</th>\n",
       "      <th>AveOccup</th>\n",
       "      <th>AveRooms</th>\n",
       "      <th>HouseAge</th>\n",
       "      <th>Latitude</th>\n",
       "      <th>Longitude</th>\n",
       "      <th>MedInc</th>\n",
       "      <th>Population</th>\n",
       "    </tr>\n",
       "  </thead>\n",
       "  <tbody>\n",
       "    <tr>\n",
       "      <th>6658</th>\n",
       "      <td>1.083521</td>\n",
       "      <td>2.268623</td>\n",
       "      <td>3.772009</td>\n",
       "      <td>22.0</td>\n",
       "      <td>34.15</td>\n",
       "      <td>-118.12</td>\n",
       "      <td>3.0119</td>\n",
       "      <td>1005.0</td>\n",
       "    </tr>\n",
       "    <tr>\n",
       "      <th>2118</th>\n",
       "      <td>0.836795</td>\n",
       "      <td>2.578635</td>\n",
       "      <td>5.017804</td>\n",
       "      <td>27.0</td>\n",
       "      <td>36.75</td>\n",
       "      <td>-119.72</td>\n",
       "      <td>3.9514</td>\n",
       "      <td>869.0</td>\n",
       "    </tr>\n",
       "    <tr>\n",
       "      <th>12101</th>\n",
       "      <td>1.016156</td>\n",
       "      <td>2.875850</td>\n",
       "      <td>6.726190</td>\n",
       "      <td>13.0</td>\n",
       "      <td>33.94</td>\n",
       "      <td>-117.34</td>\n",
       "      <td>5.5563</td>\n",
       "      <td>3382.0</td>\n",
       "    </tr>\n",
       "    <tr>\n",
       "      <th>4076</th>\n",
       "      <td>1.026217</td>\n",
       "      <td>2.202247</td>\n",
       "      <td>6.520599</td>\n",
       "      <td>33.0</td>\n",
       "      <td>34.14</td>\n",
       "      <td>-118.45</td>\n",
       "      <td>7.9625</td>\n",
       "      <td>588.0</td>\n",
       "    </tr>\n",
       "    <tr>\n",
       "      <th>15872</th>\n",
       "      <td>1.038306</td>\n",
       "      <td>3.661290</td>\n",
       "      <td>4.997984</td>\n",
       "      <td>52.0</td>\n",
       "      <td>37.76</td>\n",
       "      <td>-122.41</td>\n",
       "      <td>3.0774</td>\n",
       "      <td>1816.0</td>\n",
       "    </tr>\n",
       "    <tr>\n",
       "      <th>...</th>\n",
       "      <td>...</td>\n",
       "      <td>...</td>\n",
       "      <td>...</td>\n",
       "      <td>...</td>\n",
       "      <td>...</td>\n",
       "      <td>...</td>\n",
       "      <td>...</td>\n",
       "      <td>...</td>\n",
       "    </tr>\n",
       "    <tr>\n",
       "      <th>8497</th>\n",
       "      <td>0.985185</td>\n",
       "      <td>2.792593</td>\n",
       "      <td>3.456790</td>\n",
       "      <td>38.0</td>\n",
       "      <td>33.90</td>\n",
       "      <td>-118.31</td>\n",
       "      <td>3.5417</td>\n",
       "      <td>1131.0</td>\n",
       "    </tr>\n",
       "    <tr>\n",
       "      <th>1708</th>\n",
       "      <td>1.049479</td>\n",
       "      <td>2.460938</td>\n",
       "      <td>5.656250</td>\n",
       "      <td>38.0</td>\n",
       "      <td>37.94</td>\n",
       "      <td>-122.31</td>\n",
       "      <td>4.3958</td>\n",
       "      <td>945.0</td>\n",
       "    </tr>\n",
       "    <tr>\n",
       "      <th>8017</th>\n",
       "      <td>1.075697</td>\n",
       "      <td>2.776892</td>\n",
       "      <td>6.203187</td>\n",
       "      <td>36.0</td>\n",
       "      <td>33.84</td>\n",
       "      <td>-118.10</td>\n",
       "      <td>4.5417</td>\n",
       "      <td>697.0</td>\n",
       "    </tr>\n",
       "    <tr>\n",
       "      <th>16332</th>\n",
       "      <td>1.051821</td>\n",
       "      <td>2.900560</td>\n",
       "      <td>5.900560</td>\n",
       "      <td>20.0</td>\n",
       "      <td>38.03</td>\n",
       "      <td>-121.34</td>\n",
       "      <td>4.4063</td>\n",
       "      <td>2071.0</td>\n",
       "    </tr>\n",
       "    <tr>\n",
       "      <th>16189</th>\n",
       "      <td>1.090909</td>\n",
       "      <td>2.329545</td>\n",
       "      <td>3.659091</td>\n",
       "      <td>52.0</td>\n",
       "      <td>37.97</td>\n",
       "      <td>-121.29</td>\n",
       "      <td>1.2962</td>\n",
       "      <td>1025.0</td>\n",
       "    </tr>\n",
       "  </tbody>\n",
       "</table>\n",
       "<p>6192 rows × 8 columns</p>\n",
       "</div>"
      ],
      "text/plain": [
       "       AveBedrms  AveOccup  AveRooms  HouseAge  Latitude  Longitude  MedInc  \\\n",
       "6658    1.083521  2.268623  3.772009      22.0     34.15    -118.12  3.0119   \n",
       "2118    0.836795  2.578635  5.017804      27.0     36.75    -119.72  3.9514   \n",
       "12101   1.016156  2.875850  6.726190      13.0     33.94    -117.34  5.5563   \n",
       "4076    1.026217  2.202247  6.520599      33.0     34.14    -118.45  7.9625   \n",
       "15872   1.038306  3.661290  4.997984      52.0     37.76    -122.41  3.0774   \n",
       "...          ...       ...       ...       ...       ...        ...     ...   \n",
       "8497    0.985185  2.792593  3.456790      38.0     33.90    -118.31  3.5417   \n",
       "1708    1.049479  2.460938  5.656250      38.0     37.94    -122.31  4.3958   \n",
       "8017    1.075697  2.776892  6.203187      36.0     33.84    -118.10  4.5417   \n",
       "16332   1.051821  2.900560  5.900560      20.0     38.03    -121.34  4.4063   \n",
       "16189   1.090909  2.329545  3.659091      52.0     37.97    -121.29  1.2962   \n",
       "\n",
       "       Population  \n",
       "6658       1005.0  \n",
       "2118        869.0  \n",
       "12101      3382.0  \n",
       "4076        588.0  \n",
       "15872      1816.0  \n",
       "...           ...  \n",
       "8497       1131.0  \n",
       "1708        945.0  \n",
       "8017        697.0  \n",
       "16332      2071.0  \n",
       "16189      1025.0  \n",
       "\n",
       "[6192 rows x 8 columns]"
      ]
     },
     "execution_count": 3,
     "metadata": {},
     "output_type": "execute_result"
    }
   ],
   "source": [
    "y = df.price\n",
    "X = df[df.columns.difference(['price'])]\n",
    "\n",
    "X_train, X_test, y_train, y_test = train_test_split(X, y, test_size=0.3, random_state=34)\n",
    "X_test"
   ]
  },
  {
   "cell_type": "markdown",
   "metadata": {},
   "source": [
    "---\n",
    "\n",
    "### Ridge and Lasso Regression\n",
    "\n",
    "In scikit-learn you can compute Lasso Regression and Ridge Regression with the following:\n",
    "\n",
    "- [Lasso](https://scikit-learn.org/stable/modules/generated/sklearn.linear_model.Lasso.html)\n",
    "- [Ridge](https://scikit-learn.org/stable/modules/generated/sklearn.linear_model.Ridge.html)\n"
   ]
  },
  {
   "cell_type": "markdown",
   "metadata": {},
   "source": [
    "**Before calculating a Ridge or Lasso Model it is very important that we standarize our features. We will do this by using the [StandardScaler](https://scikit-learn.org/stable/modules/generated/sklearn.preprocessing.StandardScaler.html) in scikit-learn**\n",
    "\n",
    "The Standard Scaler will remove the mean and scale to unit variance:\n",
    "\n",
    "$z = \\dfrac{(x - \\mu)}{\\sigma}$\n",
    "\n",
    "As with any other class in scikit-learn you will have to instantiate the class and then apply the method `fit_transform` onto your data. Print your `X_train_standarized` to see how it looks!"
   ]
  },
  {
   "cell_type": "code",
   "execution_count": 4,
   "metadata": {},
   "outputs": [
    {
     "name": "stdout",
     "output_type": "stream",
     "text": [
      "[[-0.15883511 -0.08868281  0.12811849 ...  1.10428421  0.12004525\n",
      "  -0.63435711]\n",
      " [-0.16433559 -0.06886675  0.59383867 ...  0.7141955   1.99537045\n",
      "  -0.46769837]\n",
      " [-0.15975142  0.10450834  0.7055036  ...  1.1843024   1.27767358\n",
      "   0.13156389]\n",
      " ...\n",
      " [-0.25286169 -0.16523975 -0.58578282 ...  0.85422734  0.65738182\n",
      "  -0.56698443]\n",
      " [-0.03716648 -0.11470346  0.96684364 ...  0.58916706  5.87021631\n",
      "   0.12890444]\n",
      " [-0.135918    0.12662334 -0.44297127 ...  0.78921256 -0.55482923\n",
      "   0.87886876]]\n"
     ]
    }
   ],
   "source": [
    "# Scaling training features\n",
    "standard_scaler = StandardScaler()\n",
    "X_train_standarized = standard_scaler.fit_transform(X_train)\n",
    "X_test_standarized = standard_scaler.fit_transform(X_test)\n",
    "print(X_train_standarized)"
   ]
  },
  {
   "cell_type": "markdown",
   "metadata": {},
   "source": [
    "**Code a LinearRegression model and print its corresponding Train MSE, Test MSE, Train $R^2$, and Test $R^2$. this model will serve as a baseline to compare if our Ridge and Lasso are doing better. Please use your standarised datasets!**"
   ]
  },
  {
   "cell_type": "code",
   "execution_count": 5,
   "metadata": {},
   "outputs": [
    {
     "name": "stdout",
     "output_type": "stream",
     "text": [
      "Linear Regression\n",
      "Train MSE:  0.5297201176001207\n",
      "Test MSE:  0.512969865770243\n",
      "Train R^2:  0.6008202491907139\n",
      "Test R^2:  0.6177895869466736\n"
     ]
    }
   ],
   "source": [
    "lr_model = LinearRegression()\n",
    "lr_model.fit(X_train_standarized,y_train)\n",
    "lr_y_pred = lr_model.predict(X_train_standarized)\n",
    "lr_y_pred_test = lr_model.predict(X_test_standarized)\n",
    "\n",
    "lr_mse_train = mean_squared_error(y_train,lr_y_pred)\n",
    "lr_mse_test = mean_squared_error(y_test,lr_y_pred_test)\n",
    "lr_r_sq_train = lr_model.score(X_train_standarized,y_train)\n",
    "lr_r_sq_test = lr_model.score(X_test_standarized, y_test)\n",
    "\n",
    "print(\"Linear Regression\")\n",
    "print(\"Train MSE: \",lr_mse_train)\n",
    "print(\"Test MSE: \",lr_mse_test)\n",
    "print(\"Train R^2: \",lr_r_sq_train)\n",
    "print(\"Test R^2: \",lr_r_sq_test)"
   ]
  },
  {
   "cell_type": "markdown",
   "metadata": {},
   "source": [
    "--> your answer here"
   ]
  },
  {
   "cell_type": "markdown",
   "metadata": {},
   "source": [
    "---\n",
    "\n",
    "**The next few cells are for you to practice making changes as a team, commiting them and resolving conflicts. The outcome of those cells does not matter as much as gaining experience as a team**\n",
    "\n",
    "\n",
    "**Create a model, either Ridge or Lasso.**"
   ]
  },
  {
   "cell_type": "code",
   "execution_count": 6,
   "metadata": {},
   "outputs": [],
   "source": [
    "#your code here\n"
   ]
  },
  {
   "cell_type": "markdown",
   "metadata": {},
   "source": [
    "**Do a few more commits so that you get the hang of it with your team!**"
   ]
  },
  {
   "cell_type": "code",
   "execution_count": null,
   "metadata": {},
   "outputs": [],
   "source": []
  },
  {
   "cell_type": "code",
   "execution_count": null,
   "metadata": {},
   "outputs": [],
   "source": []
  },
  {
   "cell_type": "code",
   "execution_count": null,
   "metadata": {},
   "outputs": [],
   "source": []
  },
  {
   "cell_type": "code",
   "execution_count": null,
   "metadata": {},
   "outputs": [],
   "source": []
  },
  {
   "cell_type": "code",
   "execution_count": null,
   "metadata": {},
   "outputs": [],
   "source": []
  },
  {
   "cell_type": "markdown",
   "metadata": {},
   "source": [
    "---\n",
    "\n",
    "**When indicated make sure to push one last commit to your remote repo. We will check your group repos for this Sprint 2**"
   ]
  },
  {
   "cell_type": "markdown",
   "metadata": {},
   "source": [
    "---\n",
    "\n",
    "### END OF Sprint 2 Jupyter Notebook!\n",
    "\n",
    "Make sure to go back to the README and modify the indicated sections as a team."
   ]
  }
 ],
 "metadata": {
  "kernelspec": {
   "display_name": "Python 3 (ipykernel)",
   "language": "python",
   "name": "python3"
  },
  "language_info": {
   "codemirror_mode": {
    "name": "ipython",
    "version": 3
   },
   "file_extension": ".py",
   "mimetype": "text/x-python",
   "name": "python",
   "nbconvert_exporter": "python",
   "pygments_lexer": "ipython3",
   "version": "3.9.13"
  },
  "vscode": {
   "interpreter": {
    "hash": "bbcf0164efb446875c723dd82f51f685c5d32014dbd608425cc77ee23013ad74"
   }
  }
 },
 "nbformat": 4,
 "nbformat_minor": 4
}
